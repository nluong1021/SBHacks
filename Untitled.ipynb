{
 "cells": [
  {
   "cell_type": "code",
   "execution_count": 1,
   "metadata": {},
   "outputs": [],
   "source": [
    "from PIL import Image\n",
    "import pytesseract"
   ]
  },
  {
   "cell_type": "code",
   "execution_count": 4,
   "metadata": {},
   "outputs": [],
   "source": [
    "from googletrans import Translator"
   ]
  },
  {
   "cell_type": "code",
   "execution_count": 5,
   "metadata": {},
   "outputs": [],
   "source": [
    "translator = Translator()"
   ]
  },
  {
   "cell_type": "code",
   "execution_count": 33,
   "metadata": {},
   "outputs": [
    {
     "ename": "ValueError",
     "evalue": "bad mode 0",
     "output_type": "error",
     "traceback": [
      "\u001b[1;31m---------------------------------------------------------------------------\u001b[0m",
      "\u001b[1;31mValueError\u001b[0m                                Traceback (most recent call last)",
      "\u001b[1;32m<ipython-input-33-e2fb28c62928>\u001b[0m in \u001b[0;36m<module>\u001b[1;34m()\u001b[0m\n\u001b[1;32m----> 1\u001b[1;33m \u001b[0mimg\u001b[0m \u001b[1;33m=\u001b[0m \u001b[0mImage\u001b[0m\u001b[1;33m.\u001b[0m\u001b[0mopen\u001b[0m\u001b[1;33m(\u001b[0m\u001b[1;34m\"image1.jpg\"\u001b[0m\u001b[1;33m,\u001b[0m \u001b[1;36m0\u001b[0m\u001b[1;33m)\u001b[0m\u001b[1;33m\u001b[0m\u001b[0m\n\u001b[0m\u001b[0;32m      2\u001b[0m \u001b[0mimg\u001b[0m\u001b[1;33m.\u001b[0m\u001b[0mload\u001b[0m\u001b[1;33m(\u001b[0m\u001b[1;33m)\u001b[0m\u001b[1;33m\u001b[0m\u001b[0m\n\u001b[0;32m      3\u001b[0m \u001b[0mpytesseract\u001b[0m\u001b[1;33m.\u001b[0m\u001b[0mpytesseract\u001b[0m\u001b[1;33m.\u001b[0m\u001b[0mtesseract_cmd\u001b[0m \u001b[1;33m=\u001b[0m \u001b[1;34m'C:/Program Files (x86)/Tesseract-OCR/tesseract.exe'\u001b[0m\u001b[1;33m\u001b[0m\u001b[0m\n\u001b[0;32m      4\u001b[0m \u001b[0mtext\u001b[0m \u001b[1;33m=\u001b[0m \u001b[0mpytesseract\u001b[0m\u001b[1;33m.\u001b[0m\u001b[0mimage_to_string\u001b[0m\u001b[1;33m(\u001b[0m\u001b[0mimg\u001b[0m\u001b[1;33m)\u001b[0m  \u001b[1;31m#Specify language to look after!\u001b[0m\u001b[1;33m\u001b[0m\u001b[0m\n\u001b[0;32m      5\u001b[0m \u001b[0mprint\u001b[0m\u001b[1;33m(\u001b[0m\u001b[0mtext\u001b[0m\u001b[1;33m)\u001b[0m\u001b[1;33m\u001b[0m\u001b[0m\n",
      "\u001b[1;32mc:\\users\\duyminh1998\\appdata\\local\\programs\\python\\python37-32\\lib\\site-packages\\PIL\\Image.py\u001b[0m in \u001b[0;36mopen\u001b[1;34m(fp, mode)\u001b[0m\n\u001b[0;32m   2568\u001b[0m \u001b[1;33m\u001b[0m\u001b[0m\n\u001b[0;32m   2569\u001b[0m     \u001b[1;32mif\u001b[0m \u001b[0mmode\u001b[0m \u001b[1;33m!=\u001b[0m \u001b[1;34m\"r\"\u001b[0m\u001b[1;33m:\u001b[0m\u001b[1;33m\u001b[0m\u001b[0m\n\u001b[1;32m-> 2570\u001b[1;33m         \u001b[1;32mraise\u001b[0m \u001b[0mValueError\u001b[0m\u001b[1;33m(\u001b[0m\u001b[1;34m\"bad mode %r\"\u001b[0m \u001b[1;33m%\u001b[0m \u001b[0mmode\u001b[0m\u001b[1;33m)\u001b[0m\u001b[1;33m\u001b[0m\u001b[0m\n\u001b[0m\u001b[0;32m   2571\u001b[0m \u001b[1;33m\u001b[0m\u001b[0m\n\u001b[0;32m   2572\u001b[0m     \u001b[0mexclusive_fp\u001b[0m \u001b[1;33m=\u001b[0m \u001b[1;32mFalse\u001b[0m\u001b[1;33m\u001b[0m\u001b[0m\n",
      "\u001b[1;31mValueError\u001b[0m: bad mode 0"
     ]
    }
   ],
   "source": [
    "img = Image.open(\"image1.jpg\")\n",
    "img.load()\n",
    "pytesseract.pytesseract.tesseract_cmd = 'C:/Program Files (x86)/Tesseract-OCR/tesseract.exe'\n",
    "text = pytesseract.image_to_string(img)  #Specify language to look after!\n",
    "print(text)"
   ]
  },
  {
   "cell_type": "code",
   "execution_count": 12,
   "metadata": {},
   "outputs": [
    {
     "name": "stdout",
     "output_type": "stream",
     "text": [
      "Translated(src=zh-TW, dest=en, text=Grasp, pronunciation=None, extra_data=\"{'translat...\")\n"
     ]
    }
   ],
   "source": [
    "print(translator.translate(text, src=\"zh-tw\", dest=\"en\"))"
   ]
  },
  {
   "cell_type": "code",
   "execution_count": 14,
   "metadata": {},
   "outputs": [
    {
     "name": "stdout",
     "output_type": "stream",
     "text": [
      "Translated(src=ko, dest=en, text=Hi., pronunciation=None, extra_data=\"{'translat...\")\n"
     ]
    }
   ],
   "source": [
    "print(translator.translate('안녕하세요.'))"
   ]
  },
  {
   "cell_type": "code",
   "execution_count": 77,
   "metadata": {},
   "outputs": [
    {
     "name": "stdout",
     "output_type": "stream",
     "text": [
      "腈您爱护和保\n",
      "护卫生创建优\n",
      "\n",
      "美水环境\n",
      "Translated(src=zh-TW, dest=en, text=Nitrile, you care and protect\n",
      "Health care creation\n",
      "\n",
      "Beautiful water environment, pronunciation=None, extra_data=\"{'translat...\")\n"
     ]
    }
   ],
   "source": [
    "import cv2\n",
    "import sys\n",
    "import pytesseract\n",
    " \n",
    "if __name__ == '__main__':\n",
    " \n",
    "    \"\"\"if len(sys.argv) < 2:\n",
    "    print('Usage: python ocr_simple.py image.jpg')\n",
    "    sys.exit(1)\"\"\"\n",
    "\n",
    "    # Read image path from command line\n",
    "    # imPath = sys.argv[1]\n",
    "    imPath = \"image1.jpg\"\n",
    "\n",
    "    # Uncomment the line below to provide path to tesseract manually\n",
    "    pytesseract.pytesseract.tesseract_cmd = 'C:/Program Files (x86)/Tesseract-OCR/tesseract.exe'\n",
    "\n",
    "    # Define config parameters.\n",
    "    # '-l eng'  for using the English language\n",
    "    # '--oem 1' for using LSTM OCR Engine\n",
    "    config = ('-l chi_sim --oem 1 --psm 3')\n",
    "\n",
    "    # Read image from disk\n",
    "    im = cv2.imread(imPath, 0)\n",
    "\n",
    "    # Run tesseract OCR on image\n",
    "    text = pytesseract.image_to_string(im, lang=\"chi_sim\")\n",
    "    print(text)\n",
    "\n",
    "    # Print recognized text\n",
    "    translated = translator.translate(text, src=\"zh-tw\", dest=\"en\")\n",
    "    print(translated)"
   ]
  },
  {
   "cell_type": "code",
   "execution_count": 51,
   "metadata": {},
   "outputs": [
    {
     "name": "stdout",
     "output_type": "stream",
     "text": [
      "腈 Nitrile\n",
      "您 you\n",
      "爱 Love\n",
      "护 Protection\n",
      "和 with\n",
      "保 Guarantee\n",
      "护 Protection\n",
      "卫 guard\n",
      "生 Health\n",
      "创 Invasive\n",
      "建 build\n",
      "优 excellent\n",
      "美 nice\n",
      "水 water\n",
      "环 ring\n",
      "境 territory\n"
     ]
    }
   ],
   "source": [
    "for word in list(text.replace('\\n', '')):\n",
    "    print(word, translator.translate(word, src=\"zh-tw\", dest=\"en\").text)"
   ]
  },
  {
   "cell_type": "code",
   "execution_count": 79,
   "metadata": {},
   "outputs": [
    {
     "name": "stdout",
     "output_type": "stream",
     "text": [
      "Nitrile, you care and protect the health to create a beautiful water environment\n"
     ]
    }
   ],
   "source": [
    "print(translator.translate(text.replace('\\n', ''), src=\"zh-tw\", dest=\"en\").text)"
   ]
  },
  {
   "cell_type": "code",
   "execution_count": 90,
   "metadata": {},
   "outputs": [
    {
     "name": "stdout",
     "output_type": "stream",
     "text": [
      "{'腈': 'Jīng', '您': 'Nín', '爱': 'Ài', '护': 'Hù', '和': 'Hé', '保': 'Bǎo', '卫': 'Wèi', '生': 'Shēng', '创': 'Chuàng', '建': 'Jiàn', '优': 'Yōu', '美': 'Měi', '水': 'Shuǐ', '环': 'Huán', '境': 'Jìng'}\n"
     ]
    }
   ],
   "source": [
    "text_list = list(text.replace('\\n', ''))\n",
    "pronun_list = translator.translate(text_list, src=\"zh-tw\", dest=\"zh-tw\")\n",
    "dic = {}\n",
    "for word, pro in zip(text_list, pronun_list):\n",
    "    dic[word] = pro.pronunciation\n",
    "print(dic)"
   ]
  },
  {
   "cell_type": "code",
   "execution_count": 82,
   "metadata": {},
   "outputs": [
    {
     "name": "stdout",
     "output_type": "stream",
     "text": [
      "['Jīng', 'nín', 'àihù', 'hé', 'bǎohù', 'wèishēng', 'chuàngjiàn', 'yōuměi', 'shuǐ', 'huánjìng']\n"
     ]
    }
   ],
   "source": [
    "print((translator.translate(text.replace('\\n', ''), src=\"zh-tw\", dest=\"zh-tw\").pronunciation).split(\" \"))"
   ]
  },
  {
   "cell_type": "code",
   "execution_count": 61,
   "metadata": {},
   "outputs": [],
   "source": [
    "pronunciation = (translator.translate(text.replace('\\n', ''), src=\"zh-tw\", dest=\"zh-tw\").pronunciation).split(\" \")"
   ]
  },
  {
   "cell_type": "code",
   "execution_count": 72,
   "metadata": {},
   "outputs": [
    {
     "ename": "IndexError",
     "evalue": "list index out of range",
     "output_type": "error",
     "traceback": [
      "\u001b[1;31m---------------------------------------------------------------------------\u001b[0m",
      "\u001b[1;31mIndexError\u001b[0m                                Traceback (most recent call last)",
      "\u001b[1;32m<ipython-input-72-8b228c12466f>\u001b[0m in \u001b[0;36m<module>\u001b[1;34m()\u001b[0m\n\u001b[0;32m      2\u001b[0m \u001b[0mi\u001b[0m \u001b[1;33m=\u001b[0m \u001b[1;36m0\u001b[0m\u001b[1;33m\u001b[0m\u001b[0m\n\u001b[0;32m      3\u001b[0m \u001b[1;32mfor\u001b[0m \u001b[0mtranslation\u001b[0m \u001b[1;32min\u001b[0m \u001b[0mpronunciation_raw\u001b[0m\u001b[1;33m:\u001b[0m\u001b[1;33m\u001b[0m\u001b[0m\n\u001b[1;32m----> 4\u001b[1;33m     \u001b[1;32mif\u001b[0m \u001b[0mlen\u001b[0m\u001b[1;33m(\u001b[0m\u001b[0mtranslation\u001b[0m\u001b[1;33m.\u001b[0m\u001b[0mpronunciation\u001b[0m\u001b[1;33m)\u001b[0m \u001b[1;33m==\u001b[0m \u001b[0mpronunciation\u001b[0m\u001b[1;33m[\u001b[0m\u001b[0mi\u001b[0m\u001b[1;33m]\u001b[0m\u001b[1;33m:\u001b[0m\u001b[1;33m\u001b[0m\u001b[0m\n\u001b[0m\u001b[0;32m      5\u001b[0m         \u001b[0mprint\u001b[0m\u001b[1;33m(\u001b[0m\u001b[0mtext_list\u001b[0m\u001b[1;33m[\u001b[0m\u001b[0mi\u001b[0m\u001b[1;33m]\u001b[0m\u001b[1;33m)\u001b[0m\u001b[1;33m\u001b[0m\u001b[0m\n\u001b[0;32m      6\u001b[0m     \u001b[0mi\u001b[0m \u001b[1;33m+=\u001b[0m \u001b[1;36m1\u001b[0m\u001b[1;33m\u001b[0m\u001b[0m\n",
      "\u001b[1;31mIndexError\u001b[0m: list index out of range"
     ]
    }
   ],
   "source": [
    "pronunciation_raw = translator.translate(list(text.replace('\\n', '')), src=\"zh-tw\", dest=\"zh-tw\")\n",
    "i = 0\n",
    "for translation in pronunciation_raw:\n",
    "    if len(translation.pronunciation) == pronunciation[i]:\n",
    "        print(text_list[i])\n",
    "    i += 1"
   ]
  },
  {
   "cell_type": "code",
   "execution_count": 91,
   "metadata": {},
   "outputs": [],
   "source": [
    "import cv2\n",
    "import sys\n",
    "import pytesseract\n",
    "from googletrans import Translator"
   ]
  },
  {
   "cell_type": "code",
   "execution_count": 110,
   "metadata": {},
   "outputs": [
    {
     "name": "stdout",
     "output_type": "stream",
     "text": [
      "('腈您爱护和保\\n护卫生创建优\\n\\n美水环境', <googletrans.models.Translated object at 0x00F27930>)\n"
     ]
    }
   ],
   "source": [
    "# config\n",
    "pytesseract.pytesseract.tesseract_cmd = 'C:/Program Files (x86)/Tesseract-OCR/tesseract.exe'\n",
    "translator = Translator()\n",
    "# translate_map\n",
    "\n",
    "def parse_img(img):\n",
    "\twords = {}\n",
    "\tim = cv2.imread(img, 0)\n",
    "\ttext = pytesseract.image_to_string(im, lang=\"chi_sim\")\n",
    "\ttranslated = translator.translate(clean_text(text), src=\"zh-cn\", dest=\"en\")\n",
    "\treturn (text, translated)\n",
    "\n",
    "def clean_text(text):\n",
    "\treturn text.replace('\\n', '')\n",
    "\n",
    "if __name__ == '__main__':\n",
    "\tprint(parse_img(img=\"image1.jpg\"))"
   ]
  },
  {
   "cell_type": "code",
   "execution_count": 98,
   "metadata": {},
   "outputs": [
    {
     "data": {
      "text/plain": [
       "'Nitrile, you care and protect\\nHealth care creation\\n\\nBeautiful water environment'"
      ]
     },
     "execution_count": 98,
     "metadata": {},
     "output_type": "execute_result"
    }
   ],
   "source": [
    "translated.text"
   ]
  },
  {
   "cell_type": "code",
   "execution_count": 103,
   "metadata": {},
   "outputs": [
    {
     "data": {
      "text/plain": [
       "10"
      ]
     },
     "execution_count": 103,
     "metadata": {},
     "output_type": "execute_result"
    }
   ],
   "source": [
    "len(pronunciation)"
   ]
  },
  {
   "cell_type": "code",
   "execution_count": 105,
   "metadata": {},
   "outputs": [],
   "source": [
    "text = \"腈您爱护和保护卫生创建优\""
   ]
  },
  {
   "cell_type": "code",
   "execution_count": 108,
   "metadata": {},
   "outputs": [
    {
     "data": {
      "text/plain": [
       "'Àihù'"
      ]
     },
     "execution_count": 108,
     "metadata": {},
     "output_type": "execute_result"
    }
   ],
   "source": [
    "translator.translate(text[2] + text[3], src=\"zh-tw\", dest=\"zh-tw\").pronunciation"
   ]
  },
  {
   "cell_type": "code",
   "execution_count": null,
   "metadata": {},
   "outputs": [],
   "source": [
    "for i in range(len(text)):\n",
    "    if "
   ]
  }
 ],
 "metadata": {
  "kernelspec": {
   "display_name": "Python 3",
   "language": "python",
   "name": "python3"
  },
  "language_info": {
   "codemirror_mode": {
    "name": "ipython",
    "version": 3
   },
   "file_extension": ".py",
   "mimetype": "text/x-python",
   "name": "python",
   "nbconvert_exporter": "python",
   "pygments_lexer": "ipython3",
   "version": "3.7.0"
  }
 },
 "nbformat": 4,
 "nbformat_minor": 2
}
